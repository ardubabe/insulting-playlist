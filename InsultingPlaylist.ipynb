{
 "cells": [
  {
   "cell_type": "code",
   "execution_count": 30,
   "id": "605aa3e3",
   "metadata": {},
   "outputs": [],
   "source": [
    "# import libraries\n",
    "import spotipy\n",
    "import webbrowser\n",
    "import json\n",
    "import urllib.request\n",
    "import geocoder\n",
    "from nltk.corpus import stopwords\n",
    "import spotipy.util as util\n",
    "import random\n",
    "import requests"
   ]
  },
  {
   "cell_type": "code",
   "execution_count": 31,
   "id": "6c0bdff4",
   "metadata": {},
   "outputs": [],
   "source": [
    "# open .json file with spotify and nasa keys and turn it into a variable called keys\n",
    "keys = \"spotify_keys.json\"\n",
    "with open(keys, \"r\") as keys:\n",
    "    api_tokens = json.load(keys)"
   ]
  },
  {
   "cell_type": "code",
   "execution_count": 32,
   "id": "25e02c05",
   "metadata": {},
   "outputs": [],
   "source": [
    "# create variables for the different api keys within the spotify_keys.json file\n",
    "client_id = api_tokens[\"client_id\"]\n",
    "client_secret = api_tokens[\"client_secret\"]\n",
    "redirectURI = api_tokens[\"redirect\"]\n",
    "username = api_tokens[\"username\"]"
   ]
  },
  {
   "cell_type": "code",
   "execution_count": 41,
   "id": "9ca7d42a",
   "metadata": {},
   "outputs": [],
   "source": [
    "# request is when I'm asking for data. \n",
    "# added in variables for key, city and country into the URL so that user can choose location.\n",
    "request = urllib.request.Request(\"https://strangerthings-quotes.vercel.app/api/quotes\")\n",
    "# response is the answer i get for asking for data\n",
    "response = urllib.request.urlopen(request)"
   ]
  },
  {
   "cell_type": "code",
   "execution_count": 42,
   "id": "bc33c9a6",
   "metadata": {},
   "outputs": [],
   "source": [
    "# converting the HTTPResponse object to a python dictionairy\n",
    "stranger_things_data = json.loads(response.read())"
   ]
  },
  {
   "cell_type": "code",
   "execution_count": 43,
   "id": "bf054b11",
   "metadata": {},
   "outputs": [
    {
     "data": {
      "text/plain": [
       "[{'quote': 'Hey dingus! Your children are here again.',\n",
       "  'author': 'Robin Buckley'}]"
      ]
     },
     "execution_count": 43,
     "metadata": {},
     "output_type": "execute_result"
    }
   ],
   "source": [
    "# print out the stranger things data\n",
    "stranger_things_data"
   ]
  },
  {
   "cell_type": "code",
   "execution_count": 69,
   "id": "ba7bf831",
   "metadata": {},
   "outputs": [
    {
     "data": {
      "text/plain": [
       "{'quote': 'Hey dingus! Your children are here again.',\n",
       " 'author': 'Robin Buckley'}"
      ]
     },
     "execution_count": 69,
     "metadata": {},
     "output_type": "execute_result"
    }
   ],
   "source": [
    "# print out the first dictionary within the list of data\n",
    "stranger_things_data[0]"
   ]
  },
  {
   "cell_type": "code",
   "execution_count": 56,
   "id": "19ad98ce",
   "metadata": {},
   "outputs": [
    {
     "name": "stdout",
     "output_type": "stream",
     "text": [
      "['Hey', 'dingus!', 'Your', 'children', 'are', 'here', 'again.']\n"
     ]
    }
   ],
   "source": [
    "# open the first list, print the value of the key 'quote' and split it by spaces rather than each letter\n",
    "print(stranger_things_data[0]['quote'].split(\" \"))"
   ]
  },
  {
   "cell_type": "code",
   "execution_count": 70,
   "id": "eb844827",
   "metadata": {},
   "outputs": [],
   "source": [
    "# create a variable that contains the list of words from the quote\n",
    "list_of_quotes = stranger_things_data[0]['quote'].split(\" \")"
   ]
  },
  {
   "cell_type": "code",
   "execution_count": 71,
   "id": "9d6ef012",
   "metadata": {},
   "outputs": [
    {
     "data": {
      "text/plain": [
       "['Hey', 'dingus!', 'Your', 'children', 'are', 'here', 'again.']"
      ]
     },
     "execution_count": 71,
     "metadata": {},
     "output_type": "execute_result"
    }
   ],
   "source": [
    "list_of_quotes"
   ]
  },
  {
   "cell_type": "code",
   "execution_count": 72,
   "id": "99bd2496",
   "metadata": {},
   "outputs": [
    {
     "data": {
      "text/plain": [
       "'dingus!'"
      ]
     },
     "execution_count": 72,
     "metadata": {},
     "output_type": "execute_result"
    }
   ],
   "source": [
    "list_of_quotes[1]"
   ]
  },
  {
   "cell_type": "code",
   "execution_count": 73,
   "id": "3addbf3c",
   "metadata": {},
   "outputs": [
    {
     "name": "stdout",
     "output_type": "stream",
     "text": [
      "Enter the URL you were redirected to: https://www.google.com/?code=AQDG1Y_992ZdpZo8zgvc7tPJoSmdkOu3ZEfNWFJO05xLVVkZGKP6cy0Vi7JEYT0GXdmBuWUSnPjEhbT4ExUDV-NQv1w0DCa80on5iAAyFWTvnMgjR9IxmAPtB66ZP9L9-DWaOmPfo_iEY3cGreB9UfCRVu0kmcGwUQq8hfJkCOkdRM_mp6WJzOqSKJV9CmaiMixmjCMlSDWE_7Li4jCZpROhhas2dy-Ew5BP0zzPZ4uaVBjobVcs4gC_lcqn0sfE3xn6dYkidX7X-dxiAnpYRx6tRX5YLlmDs5uTmtgxATWOwh_IIXoqlZ8G\n"
     ]
    }
   ],
   "source": [
    "scope = 'user-read-private user-read-playback-state user-modify-playback-state playlist-modify-public user-library-read'\n",
    "token = util.prompt_for_user_token(username, scope, client_id=client_id,\n",
    "                           client_secret=client_secret,\n",
    "                           redirect_uri=redirectURI)"
   ]
  },
  {
   "cell_type": "code",
   "execution_count": 74,
   "id": "de3c1059",
   "metadata": {},
   "outputs": [
    {
     "data": {
      "text/plain": [
       "'BQDpjOfF8YafjtlVB0ZwclbRnOQcOV9ZUed6y6lILcgP-p0FiDT_y9o5Uv3Pm4Aa1QPr5y6bAwaaehxjDbVF0gyy8Ncp1e1q5eI0L6cwYDH4UokJJKorU8r_gD_1bzpgb4OGR1Xf2WiBmo2lK_qEaGc0iES8JpSrb3OPzmABumg41ygHwqAyitpArhunXmMMHXgNWGaHxWdJKEGRGCzBFV_hUqsyZEpAf0qiGJ-XRVsQo1Po'"
      ]
     },
     "execution_count": 74,
     "metadata": {},
     "output_type": "execute_result"
    }
   ],
   "source": [
    "token"
   ]
  },
  {
   "cell_type": "code",
   "execution_count": 75,
   "id": "29bca78d",
   "metadata": {},
   "outputs": [],
   "source": [
    "# create my spotify object\n",
    "sp = spotipy.Spotify(auth=token)"
   ]
  },
  {
   "cell_type": "code",
   "execution_count": null,
   "id": "f92e11d1",
   "metadata": {},
   "outputs": [],
   "source": [
    "songs_for_playlist = []\n",
    "\n",
    "for keyword in range(50):\n",
    "    new_keyword = random.choice(list_of_words)\n",
    "    #search_term = random.choice(list(unique_words))\n",
    "    searchResults = sp.search(q=\"artist:\" + new_keyword, type=\"track\", limit=1)\n",
    "    if len(searchResults['tracks']['items']) > 0:\n",
    "        first_song = searchResults['tracks']['items'][0]\n",
    "        songs_for_playlist.append(first_song['uri'])"
   ]
  }
 ],
 "metadata": {
  "kernelspec": {
   "display_name": "Python 3 (ipykernel)",
   "language": "python",
   "name": "python3"
  },
  "language_info": {
   "codemirror_mode": {
    "name": "ipython",
    "version": 3
   },
   "file_extension": ".py",
   "mimetype": "text/x-python",
   "name": "python",
   "nbconvert_exporter": "python",
   "pygments_lexer": "ipython3",
   "version": "3.11.0"
  }
 },
 "nbformat": 4,
 "nbformat_minor": 5
}
