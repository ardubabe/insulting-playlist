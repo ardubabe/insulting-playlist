{
 "cells": [
  {
   "cell_type": "code",
   "execution_count": 344,
   "id": "2070a700",
   "metadata": {},
   "outputs": [],
   "source": [
    "# Creating a spotify playlist where the track names make up a random quote from the Stranger Things API\n",
    "\n",
    "# import libraries\n",
    "\n",
    "import spotipy\n",
    "import webbrowser\n",
    "import json\n",
    "import urllib.request\n",
    "#import geocoder\n",
    "from nltk.corpus import stopwords\n",
    "import spotipy.util as util\n",
    "#import random\n",
    "import requests"
   ]
  },
  {
   "cell_type": "code",
   "execution_count": 345,
   "id": "512ac88c",
   "metadata": {},
   "outputs": [],
   "source": [
    "# open .json file with spotify and nasa keys and turn it into a variable called keys\n",
    "keys = \"spotify_keys.json\"\n",
    "with open(keys, \"r\") as keys:\n",
    "    api_tokens = json.load(keys)"
   ]
  },
  {
   "cell_type": "code",
   "execution_count": 346,
   "id": "a2d1d90a",
   "metadata": {},
   "outputs": [],
   "source": [
    "# create variables for the different api keys within the spotify_keys.json file\n",
    "client_id = api_tokens[\"client_id\"]\n",
    "client_secret = api_tokens[\"client_secret\"]\n",
    "redirectURI = api_tokens[\"redirect\"]\n",
    "username = api_tokens[\"username\"]"
   ]
  },
  {
   "cell_type": "code",
   "execution_count": 347,
   "id": "a3a39420",
   "metadata": {},
   "outputs": [],
   "source": [
    "# request is when I'm asking for data. \n",
    "request = urllib.request.Request(\"https://strangerthings-quotes.vercel.app/api/quotes\")\n",
    "# response is the answer i get for asking for data\n",
    "response = urllib.request.urlopen(request)"
   ]
  },
  {
   "cell_type": "code",
   "execution_count": 348,
   "id": "8ce2e412",
   "metadata": {},
   "outputs": [],
   "source": [
    "# converting the HTTPResponse object to a python dictionairy\n",
    "stranger_things_data = json.loads(response.read())"
   ]
  },
  {
   "cell_type": "code",
   "execution_count": 349,
   "id": "8c920b34",
   "metadata": {},
   "outputs": [
    {
     "data": {
      "text/plain": [
       "[{'quote': 'I love you, and I’m sorry. I’m sorry? The hell am I sorry for?',\n",
       "  'author': 'Steve Harrington'}]"
      ]
     },
     "execution_count": 349,
     "metadata": {},
     "output_type": "execute_result"
    }
   ],
   "source": [
    "# print out the stranger things data\n",
    "stranger_things_data"
   ]
  },
  {
   "cell_type": "code",
   "execution_count": 350,
   "id": "f02bcb30",
   "metadata": {},
   "outputs": [
    {
     "data": {
      "text/plain": [
       "{'quote': 'I love you, and I’m sorry. I’m sorry? The hell am I sorry for?',\n",
       " 'author': 'Steve Harrington'}"
      ]
     },
     "execution_count": 350,
     "metadata": {},
     "output_type": "execute_result"
    }
   ],
   "source": [
    "# print out the first dictionary within the list of stranger things data\n",
    "stranger_things_data[0]"
   ]
  },
  {
   "cell_type": "code",
   "execution_count": 351,
   "id": "c7b38351",
   "metadata": {},
   "outputs": [
    {
     "name": "stdout",
     "output_type": "stream",
     "text": [
      "['I', 'love', 'you,', 'and', 'I’m', 'sorry.', 'I’m', 'sorry?', 'The', 'hell', 'am', 'I', 'sorry', 'for?']\n"
     ]
    }
   ],
   "source": [
    "# open the first list, print the value of the key 'quote' and split it by spaces rather than each letter\n",
    "print(stranger_things_data[0]['quote'].split(\" \"))"
   ]
  },
  {
   "cell_type": "code",
   "execution_count": 352,
   "id": "64aa567e",
   "metadata": {},
   "outputs": [],
   "source": [
    "# create a variable that contains the list of words from the quote\n",
    "list_of_words = stranger_things_data[0]['quote'].split(\" \")"
   ]
  },
  {
   "cell_type": "code",
   "execution_count": 353,
   "id": "7c73390c",
   "metadata": {},
   "outputs": [
    {
     "data": {
      "text/plain": [
       "['I',\n",
       " 'love',\n",
       " 'you,',\n",
       " 'and',\n",
       " 'I’m',\n",
       " 'sorry.',\n",
       " 'I’m',\n",
       " 'sorry?',\n",
       " 'The',\n",
       " 'hell',\n",
       " 'am',\n",
       " 'I',\n",
       " 'sorry',\n",
       " 'for?']"
      ]
     },
     "execution_count": 353,
     "metadata": {},
     "output_type": "execute_result"
    }
   ],
   "source": [
    "list_of_words"
   ]
  },
  {
   "cell_type": "code",
   "execution_count": 354,
   "id": "fac1ad69",
   "metadata": {},
   "outputs": [],
   "source": [
    "scope = 'user-read-private user-read-playback-state user-modify-playback-state playlist-modify-public user-library-read'\n",
    "token = util.prompt_for_user_token(username, scope, client_id=client_id,\n",
    "                           client_secret=client_secret,\n",
    "                           redirect_uri=redirectURI)"
   ]
  },
  {
   "cell_type": "code",
   "execution_count": 355,
   "id": "8ee7f8eb",
   "metadata": {},
   "outputs": [
    {
     "data": {
      "text/plain": [
       "'BQAuVIZVcLbev49ANjwnXVVbPYRFnVimrDz8fdgxojYEw1G5wKFjuAsniZuQ-q1k_qX8f7iywc-eTVbiNZe8dJ5rP7EdKaHNu3wqQFmixIisEKEq5wm9r6kNRVkreO3ws7vCmUUjjvXUFS5nJTO4se0AycjRYtYV8-63WhK2nNlUUcLm0sUA6bTgkqF-zXY-PEHds8v_lTI1GoFQ0Ywb4PlTWsHqIVdEjD9Db-Pa_msewisu45yX31SkG1SWB5zw8_15OWqKpu3FyA'"
      ]
     },
     "execution_count": 355,
     "metadata": {},
     "output_type": "execute_result"
    }
   ],
   "source": [
    "# print out token\n",
    "token"
   ]
  },
  {
   "cell_type": "code",
   "execution_count": 356,
   "id": "12d4451e",
   "metadata": {},
   "outputs": [],
   "source": [
    "# create my spotify object\n",
    "sp = spotipy.Spotify(auth=token)"
   ]
  },
  {
   "cell_type": "code",
   "execution_count": 357,
   "id": "8509094b",
   "metadata": {},
   "outputs": [],
   "source": [
    "songs_for_playlist = []\n",
    "\n",
    "# for every word in my list of words\n",
    "for word in list_of_words:\n",
    "    # search for songs that contain each word of the quote and make a playlist for it\n",
    "    searchResults = sp.search(q=\"track:\" + word, type=\"track\")\n",
    "    # if the search returns anything\n",
    "    if len(searchResults['tracks']['items']) > 0:\n",
    "        first_song = searchResults['tracks']['items'][0]\n",
    "        songs_for_playlist.append(first_song['uri'])"
   ]
  },
  {
   "cell_type": "code",
   "execution_count": 358,
   "id": "660a399f",
   "metadata": {},
   "outputs": [
    {
     "data": {
      "text/plain": [
       "['spotify:track:5RobAV5ROH5KARimi7n3cO',\n",
       " 'spotify:track:3JvKfv6T31zO0ini8iNItO',\n",
       " 'spotify:track:73vIOb4Q7YN6HeJTbscRx5',\n",
       " 'spotify:track:2fmtrXfvbN8xkHwE0zgTTc',\n",
       " 'spotify:track:1ebJAxhKOxFERhAGs3phuD',\n",
       " 'spotify:track:0lnIJmgcUpEpe4AZACjayW',\n",
       " 'spotify:track:1ebJAxhKOxFERhAGs3phuD',\n",
       " 'spotify:track:0lnIJmgcUpEpe4AZACjayW',\n",
       " 'spotify:track:39JofJHEtg8I4fSyo7Imft',\n",
       " 'spotify:track:3NRql0A1Ef4RCvT473iqgD',\n",
       " 'spotify:track:0w7JPlp7eEQI2EKW3ayXrv',\n",
       " 'spotify:track:5RobAV5ROH5KARimi7n3cO',\n",
       " 'spotify:track:4WxHWaW8cMpaJ3X8KlExkx',\n",
       " 'spotify:track:0bYg9bo50gSsH3LtXe2SQn']"
      ]
     },
     "execution_count": 358,
     "metadata": {},
     "output_type": "execute_result"
    }
   ],
   "source": [
    "songs_for_playlist"
   ]
  },
  {
   "cell_type": "code",
   "execution_count": 359,
   "id": "086de37f",
   "metadata": {},
   "outputs": [
    {
     "name": "stdout",
     "output_type": "stream",
     "text": [
      "{'snapshot_id': 'Myw5NjgzZDFlODdlNWIyZjFmNmI2NWVkNmRhY2M2MmUxNDVlOWU5YjFl'}\n"
     ]
    }
   ],
   "source": [
    "# if you make a private playlist you need a different SCOPE \n",
    "# scope = 'user-read-private user-read-playback-state user-modify-playback-state playlist-modify-public user-library-read'\n",
    "# change this ^\n",
    "# to this:\n",
    "# scope = 'user-read-private user-read-playback-state user-modify-playback-state playlist-modify-private user-library-read'\n",
    "my_playlist = sp.user_playlist_create(user=username, name=stranger_things_data[0]['quote'], public=True,\n",
    "                                      # making the playlist description the quote so that the homies can compare the playlist to the quote\n",
    "                                      description= \"Quote by \" + stranger_things_data[0]['author'] + \". A playlist where the track names make up a random quote from a Stranger Things API :)\")\n",
    "results = sp.user_playlist_add_tracks(username, my_playlist['id'], songs_for_playlist)\n",
    "print(results)"
   ]
  },
  {
   "cell_type": "code",
   "execution_count": 360,
   "id": "6394be97",
   "metadata": {},
   "outputs": [
    {
     "data": {
      "text/plain": [
       "True"
      ]
     },
     "execution_count": 360,
     "metadata": {},
     "output_type": "execute_result"
    }
   ],
   "source": [
    "webbrowser.open(my_playlist['external_urls']['spotify'])"
   ]
  },
  {
   "cell_type": "code",
   "execution_count": null,
   "id": "c908b1c9",
   "metadata": {},
   "outputs": [],
   "source": []
  }
 ],
 "metadata": {
  "kernelspec": {
   "display_name": "Python 3 (ipykernel)",
   "language": "python",
   "name": "python3"
  },
  "language_info": {
   "codemirror_mode": {
    "name": "ipython",
    "version": 3
   },
   "file_extension": ".py",
   "mimetype": "text/x-python",
   "name": "python",
   "nbconvert_exporter": "python",
   "pygments_lexer": "ipython3",
   "version": "3.11.0"
  }
 },
 "nbformat": 4,
 "nbformat_minor": 5
}
