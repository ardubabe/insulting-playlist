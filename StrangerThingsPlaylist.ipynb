{
 "cells": [
  {
   "cell_type": "code",
   "execution_count": 115,
   "id": "75702769",
   "metadata": {},
   "outputs": [],
   "source": [
    "# import libraries\n",
    "import spotipy\n",
    "import webbrowser\n",
    "import json\n",
    "import urllib.request\n",
    "import geocoder\n",
    "from nltk.corpus import stopwords\n",
    "import spotipy.util as util\n",
    "import random\n",
    "import requests"
   ]
  },
  {
   "cell_type": "code",
   "execution_count": 116,
   "id": "d4092c4a",
   "metadata": {},
   "outputs": [],
   "source": [
    "# open .json file with spotify and nasa keys and turn it into a variable called keys\n",
    "keys = \"spotify_keys.json\"\n",
    "with open(keys, \"r\") as keys:\n",
    "    api_tokens = json.load(keys)"
   ]
  },
  {
   "cell_type": "code",
   "execution_count": 117,
   "id": "09bd43e6",
   "metadata": {},
   "outputs": [],
   "source": [
    "# create variables for the different api keys within the spotify_keys.json file\n",
    "client_id = api_tokens[\"client_id\"]\n",
    "client_secret = api_tokens[\"client_secret\"]\n",
    "redirectURI = api_tokens[\"redirect\"]\n",
    "username = api_tokens[\"username\"]"
   ]
  },
  {
   "cell_type": "code",
   "execution_count": 118,
   "id": "5a3e3b0b",
   "metadata": {},
   "outputs": [],
   "source": [
    "# request is when I'm asking for data. \n",
    "# added in variables for key, city and country into the URL so that user can choose location.\n",
    "request = urllib.request.Request(\"https://strangerthings-quotes.vercel.app/api/quotes\")\n",
    "# response is the answer i get for asking for data\n",
    "response = urllib.request.urlopen(request)"
   ]
  },
  {
   "cell_type": "code",
   "execution_count": 119,
   "id": "6e5b2fec",
   "metadata": {},
   "outputs": [],
   "source": [
    "# converting the HTTPResponse object to a python dictionairy\n",
    "stranger_things_data = json.loads(response.read())"
   ]
  },
  {
   "cell_type": "code",
   "execution_count": 120,
   "id": "acf99835",
   "metadata": {},
   "outputs": [
    {
     "data": {
      "text/plain": [
       "[{'quote': 'Rule number two: only open the door, if you hear my secret knock.',\n",
       "  'author': 'Jim Hopper'}]"
      ]
     },
     "execution_count": 120,
     "metadata": {},
     "output_type": "execute_result"
    }
   ],
   "source": [
    "# print out the stranger things data\n",
    "stranger_things_data"
   ]
  },
  {
   "cell_type": "code",
   "execution_count": 121,
   "id": "b34c110d",
   "metadata": {},
   "outputs": [
    {
     "data": {
      "text/plain": [
       "{'quote': 'Rule number two: only open the door, if you hear my secret knock.',\n",
       " 'author': 'Jim Hopper'}"
      ]
     },
     "execution_count": 121,
     "metadata": {},
     "output_type": "execute_result"
    }
   ],
   "source": [
    "# print out the first dictionary within the list of data\n",
    "stranger_things_data[0]"
   ]
  },
  {
   "cell_type": "code",
   "execution_count": 122,
   "id": "c7890d60",
   "metadata": {},
   "outputs": [
    {
     "name": "stdout",
     "output_type": "stream",
     "text": [
      "['Rule', 'number', 'two:', 'only', 'open', 'the', 'door,', 'if', 'you', 'hear', 'my', 'secret', 'knock.']\n"
     ]
    }
   ],
   "source": [
    "# open the first list, print the value of the key 'quote' and split it by spaces rather than each letter\n",
    "print(stranger_things_data[0]['quote'].split(\" \"))"
   ]
  },
  {
   "cell_type": "code",
   "execution_count": 123,
   "id": "e6878fe4",
   "metadata": {},
   "outputs": [],
   "source": [
    "# create a variable that contains the list of words from the quote\n",
    "list_of_words = stranger_things_data[0]['quote'].split(\" \")"
   ]
  },
  {
   "cell_type": "code",
   "execution_count": 124,
   "id": "6e8e1c8d",
   "metadata": {},
   "outputs": [
    {
     "data": {
      "text/plain": [
       "['Rule',\n",
       " 'number',\n",
       " 'two:',\n",
       " 'only',\n",
       " 'open',\n",
       " 'the',\n",
       " 'door,',\n",
       " 'if',\n",
       " 'you',\n",
       " 'hear',\n",
       " 'my',\n",
       " 'secret',\n",
       " 'knock.']"
      ]
     },
     "execution_count": 124,
     "metadata": {},
     "output_type": "execute_result"
    }
   ],
   "source": [
    "list_of_words"
   ]
  },
  {
   "cell_type": "code",
   "execution_count": 125,
   "id": "711c67fb",
   "metadata": {},
   "outputs": [
    {
     "data": {
      "text/plain": [
       "'number'"
      ]
     },
     "execution_count": 125,
     "metadata": {},
     "output_type": "execute_result"
    }
   ],
   "source": [
    "list_of_words[1]"
   ]
  },
  {
   "cell_type": "code",
   "execution_count": 126,
   "id": "aadea580",
   "metadata": {},
   "outputs": [],
   "source": [
    "scope = 'user-read-private user-read-playback-state user-modify-playback-state playlist-modify-public user-library-read'\n",
    "token = util.prompt_for_user_token(username, scope, client_id=client_id,\n",
    "                           client_secret=client_secret,\n",
    "                           redirect_uri=redirectURI)"
   ]
  },
  {
   "cell_type": "code",
   "execution_count": 127,
   "id": "dcd713f2",
   "metadata": {},
   "outputs": [
    {
     "data": {
      "text/plain": [
       "'BQBuUBK9PuIs0EQUTP9MckAyu-fyADsxO08xh6Qwv89qh41K3s57fgI3yH2hrcZaJ4YH6LmG-ovNcIYjN7pWbdEs_MsdjUqQ_vXyZf2Y4Gs0MldQ0J1Dpv2uuw__JQQd-Rzf9FcoTzA0_Hmyq6s3QdqyVtegKDCg_kdButMcy0dqqzCuS0mPfD7uEbaSfS4VCYMgtoDKxQGWZMexO9C7tbkzAoD44Z0Yi1zH6pFZum63_y-c_bzNAZVyjnLW0DsMCDRIxgXbZiE8zw'"
      ]
     },
     "execution_count": 127,
     "metadata": {},
     "output_type": "execute_result"
    }
   ],
   "source": [
    "# print out token\n",
    "token"
   ]
  },
  {
   "cell_type": "code",
   "execution_count": 128,
   "id": "b9bf388b",
   "metadata": {},
   "outputs": [],
   "source": [
    "# create my spotify object\n",
    "sp = spotipy.Spotify(auth=token)"
   ]
  },
  {
   "cell_type": "code",
   "execution_count": 129,
   "id": "d4851589",
   "metadata": {},
   "outputs": [],
   "source": [
    "songs_for_playlist = []\n",
    "\n",
    "# have the for loop run for the length of list_of_words, aka the length of the quote\n",
    "for keyword in range(len(list_of_words)):\n",
    "    new_keyword = random.choice(list_of_words)\n",
    "    #search_term = random.choice(list(unique_words))\n",
    "    # search for songs based on my keyword, only give me one artist\n",
    "    searchResults = sp.search(q=\"track:\" + new_keyword, type=\"track\", limit=1)\n",
    "    # if the search returns anything\n",
    "    if len(searchResults['tracks']['items']) > 0:\n",
    "        first_song = searchResults['tracks']['items'][0]\n",
    "        songs_for_playlist.append(first_song['uri'])"
   ]
  },
  {
   "cell_type": "code",
   "execution_count": 130,
   "id": "de751b53",
   "metadata": {},
   "outputs": [
    {
     "data": {
      "text/plain": [
       "['spotify:track:02VBYrHfVwfEWXk5DXyf0T',\n",
       " 'spotify:track:40SBS57su9xLiE1WqkXOVr',\n",
       " 'spotify:track:0HaRLPnr887lcQM2YQzkff',\n",
       " 'spotify:track:40SBS57su9xLiE1WqkXOVr',\n",
       " 'spotify:track:73vIOb4Q7YN6HeJTbscRx5',\n",
       " 'spotify:track:7u3w4fQhulC1etJbdfmv3Q',\n",
       " 'spotify:track:4ZMJshw6UOvaTWWThYtEoW',\n",
       " 'spotify:track:73vIOb4Q7YN6HeJTbscRx5',\n",
       " 'spotify:track:4RvWPyQ5RL0ao9LPZeSouE',\n",
       " 'spotify:track:0JmGVy7IzUM27My3UuEOOZ',\n",
       " 'spotify:track:73vIOb4Q7YN6HeJTbscRx5',\n",
       " 'spotify:track:4svaKoxMMP7ImmKrD5hfQu',\n",
       " 'spotify:track:4RvWPyQ5RL0ao9LPZeSouE']"
      ]
     },
     "execution_count": 130,
     "metadata": {},
     "output_type": "execute_result"
    }
   ],
   "source": [
    "songs_for_playlist"
   ]
  },
  {
   "cell_type": "code",
   "execution_count": 131,
   "id": "88a603b8",
   "metadata": {},
   "outputs": [
    {
     "name": "stdout",
     "output_type": "stream",
     "text": [
      "{'snapshot_id': 'MywwMmNkMzA3Y2E4YzYxMDU1NzM3OGFjOTE4Nzk3ZTc1ODAwNDE2ZGVj'}\n"
     ]
    }
   ],
   "source": [
    "# if you make a private playlist you need a different SCOPE \n",
    "# scope = 'user-read-private user-read-playback-state user-modify-playback-state playlist-modify-public user-library-read'\n",
    "# change this ^\n",
    "# to this:\n",
    "# scope = 'user-read-private user-read-playback-state user-modify-playback-state playlist-modify-private user-library-read'\n",
    "my_playlist = sp.user_playlist_create(user=username, name=\"Stranger Things\", public=True,\n",
    "                                      description=\"Songs with titles that make up a quote from Stranger Things!\")\n",
    "results = sp.user_playlist_add_tracks(username, my_playlist['id'], songs_for_playlist)\n",
    "print(results)"
   ]
  },
  {
   "cell_type": "code",
   "execution_count": 132,
   "id": "15450477",
   "metadata": {},
   "outputs": [
    {
     "data": {
      "text/plain": [
       "True"
      ]
     },
     "execution_count": 132,
     "metadata": {},
     "output_type": "execute_result"
    }
   ],
   "source": [
    "webbrowser.open(my_playlist['external_urls']['spotify'])"
   ]
  },
  {
   "cell_type": "code",
   "execution_count": null,
   "id": "e47af1b3",
   "metadata": {},
   "outputs": [],
   "source": []
  }
 ],
 "metadata": {
  "kernelspec": {
   "display_name": "Python 3 (ipykernel)",
   "language": "python",
   "name": "python3"
  },
  "language_info": {
   "codemirror_mode": {
    "name": "ipython",
    "version": 3
   },
   "file_extension": ".py",
   "mimetype": "text/x-python",
   "name": "python",
   "nbconvert_exporter": "python",
   "pygments_lexer": "ipython3",
   "version": "3.11.0"
  }
 },
 "nbformat": 4,
 "nbformat_minor": 5
}
