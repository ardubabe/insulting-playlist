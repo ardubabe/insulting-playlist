{
 "cells": [
  {
   "cell_type": "code",
   "execution_count": 237,
   "id": "f0134063",
   "metadata": {},
   "outputs": [],
   "source": [
    "# import libraries\n",
    "import spotipy\n",
    "import webbrowser\n",
    "import json\n",
    "import urllib.request\n",
    "#import geocoder\n",
    "from nltk.corpus import stopwords\n",
    "import spotipy.util as util\n",
    "#import random\n",
    "import requests"
   ]
  },
  {
   "cell_type": "code",
   "execution_count": 238,
   "id": "a41fc046",
   "metadata": {},
   "outputs": [],
   "source": [
    "# open .json file with spotify and nasa keys and turn it into a variable called keys\n",
    "keys = \"spotify_keys.json\"\n",
    "with open(keys, \"r\") as keys:\n",
    "    api_tokens = json.load(keys)"
   ]
  },
  {
   "cell_type": "code",
   "execution_count": 239,
   "id": "6d6a6f35",
   "metadata": {},
   "outputs": [],
   "source": [
    "# create variables for the different api keys within the spotify_keys.json file\n",
    "client_id = api_tokens[\"client_id\"]\n",
    "client_secret = api_tokens[\"client_secret\"]\n",
    "redirectURI = api_tokens[\"redirect\"]\n",
    "username = api_tokens[\"username\"]"
   ]
  },
  {
   "cell_type": "code",
   "execution_count": 240,
   "id": "aa893335",
   "metadata": {},
   "outputs": [],
   "source": [
    "# request is when I'm asking for data. \n",
    "request = urllib.request.Request(\"https://strangerthings-quotes.vercel.app/api/quotes\")\n",
    "# response is the answer i get for asking for data\n",
    "response = urllib.request.urlopen(request)"
   ]
  },
  {
   "cell_type": "code",
   "execution_count": 241,
   "id": "6ded38cd",
   "metadata": {},
   "outputs": [],
   "source": [
    "# converting the HTTPResponse object to a python dictionairy\n",
    "stranger_things_data = json.loads(response.read())"
   ]
  },
  {
   "cell_type": "code",
   "execution_count": 242,
   "id": "6ca5f474",
   "metadata": {},
   "outputs": [
    {
     "data": {
      "text/plain": [
       "[{'quote': 'I told you a million times my teeth are coming in. It’s called cleidocranial dysplasia.',\n",
       "  'author': 'Dustin Henderson'}]"
      ]
     },
     "execution_count": 242,
     "metadata": {},
     "output_type": "execute_result"
    }
   ],
   "source": [
    "# print out the stranger things data\n",
    "stranger_things_data"
   ]
  },
  {
   "cell_type": "code",
   "execution_count": 243,
   "id": "56b9611e",
   "metadata": {},
   "outputs": [
    {
     "data": {
      "text/plain": [
       "{'quote': 'I told you a million times my teeth are coming in. It’s called cleidocranial dysplasia.',\n",
       " 'author': 'Dustin Henderson'}"
      ]
     },
     "execution_count": 243,
     "metadata": {},
     "output_type": "execute_result"
    }
   ],
   "source": [
    "# print out the first dictionary within the list of data\n",
    "stranger_things_data[0]"
   ]
  },
  {
   "cell_type": "code",
   "execution_count": 244,
   "id": "a9f2ad8a",
   "metadata": {},
   "outputs": [
    {
     "name": "stdout",
     "output_type": "stream",
     "text": [
      "['I', 'told', 'you', 'a', 'million', 'times', 'my', 'teeth', 'are', 'coming', 'in.', 'It’s', 'called', 'cleidocranial', 'dysplasia.']\n"
     ]
    }
   ],
   "source": [
    "# open the first list, print the value of the key 'quote' and split it by spaces rather than each letter\n",
    "print(stranger_things_data[0]['quote'].split(\" \"))"
   ]
  },
  {
   "cell_type": "code",
   "execution_count": 245,
   "id": "f112c5b2",
   "metadata": {},
   "outputs": [],
   "source": [
    "# create a variable that contains the list of words from the quote\n",
    "list_of_words = stranger_things_data[0]['quote'].split(\" \")"
   ]
  },
  {
   "cell_type": "code",
   "execution_count": 246,
   "id": "fd14bb17",
   "metadata": {},
   "outputs": [
    {
     "data": {
      "text/plain": [
       "['I',\n",
       " 'told',\n",
       " 'you',\n",
       " 'a',\n",
       " 'million',\n",
       " 'times',\n",
       " 'my',\n",
       " 'teeth',\n",
       " 'are',\n",
       " 'coming',\n",
       " 'in.',\n",
       " 'It’s',\n",
       " 'called',\n",
       " 'cleidocranial',\n",
       " 'dysplasia.']"
      ]
     },
     "execution_count": 246,
     "metadata": {},
     "output_type": "execute_result"
    }
   ],
   "source": [
    "list_of_words"
   ]
  },
  {
   "cell_type": "code",
   "execution_count": 247,
   "id": "2ef0199c",
   "metadata": {},
   "outputs": [],
   "source": [
    "scope = 'user-read-private user-read-playback-state user-modify-playback-state playlist-modify-public user-library-read'\n",
    "token = util.prompt_for_user_token(username, scope, client_id=client_id,\n",
    "                           client_secret=client_secret,\n",
    "                           redirect_uri=redirectURI)"
   ]
  },
  {
   "cell_type": "code",
   "execution_count": 248,
   "id": "fa5d99f5",
   "metadata": {},
   "outputs": [
    {
     "data": {
      "text/plain": [
       "'BQCsLUSRhPImW_HFmCYxv7KW48oVrW03pgJ9JoHBWvV1zf66U4hScAbkB0W0QndZcztM-Z_warWQTtfpnELuTBEuG5i1-172S_iUbnXsYoVdTSJETh41RV7PaP3JlcYCw39leIewGc7s7-UA7Fwq_xLj4HsBqfAncAck19cuHRgGjJTt7ITS7LthIe11Y3Cx6aIkWLZobLxdzbL66I69AcBSU1w6-2tTbUM0RASGhKVYOUpjFE1-0YjKsAoHLFCuqEvNBt9Kp7JxvQ'"
      ]
     },
     "execution_count": 248,
     "metadata": {},
     "output_type": "execute_result"
    }
   ],
   "source": [
    "# print out token\n",
    "token"
   ]
  },
  {
   "cell_type": "code",
   "execution_count": 249,
   "id": "ba41fc37",
   "metadata": {},
   "outputs": [],
   "source": [
    "# create my spotify object\n",
    "sp = spotipy.Spotify(auth=token)"
   ]
  },
  {
   "cell_type": "code",
   "execution_count": 250,
   "id": "48264bec",
   "metadata": {},
   "outputs": [],
   "source": [
    "songs_for_playlist = []\n",
    "\n",
    "# for every word in my list of words\n",
    "for word in list_of_words:\n",
    "    # search for songs that contain each word of the quote and make a playlist for it\n",
    "    searchResults = sp.search(q=\"track:\" + word, type=\"track\")\n",
    "    # if the search returns anything\n",
    "    if len(searchResults['tracks']['items']) > 0:\n",
    "        first_song = searchResults['tracks']['items'][0]\n",
    "        songs_for_playlist.append(first_song['uri'])"
   ]
  },
  {
   "cell_type": "code",
   "execution_count": 251,
   "id": "39b17ff7",
   "metadata": {},
   "outputs": [
    {
     "data": {
      "text/plain": [
       "['spotify:track:5RobAV5ROH5KARimi7n3cO',\n",
       " 'spotify:track:7BpYWzZwrsljT1eIjb0TqR',\n",
       " 'spotify:track:73vIOb4Q7YN6HeJTbscRx5',\n",
       " 'spotify:track:39JofJHEtg8I4fSyo7Imft',\n",
       " 'spotify:track:5FJlVqsN2jQBu8uRpy3GqG',\n",
       " 'spotify:track:0w5Bdu51Ka25Pf3hojsKHh',\n",
       " 'spotify:track:2KukL7UlQ8TdvpaA7bY3ZJ',\n",
       " 'spotify:track:2nxy7TbWDWOBm2bseZJX2A',\n",
       " 'spotify:track:2bLqfJjuC5syrsgDsZfGmn',\n",
       " 'spotify:track:5EQzuYfTZt7B2LqlvTF49l',\n",
       " 'spotify:track:5RobAV5ROH5KARimi7n3cO',\n",
       " 'spotify:track:1xzi1Jcr7mEi9K2RfzLOqS',\n",
       " 'spotify:track:0gdmDP6xy3ZV7JNoHWAN9k',\n",
       " 'spotify:track:1gNhaQWyuOsU3biwhd6dxZ',\n",
       " 'spotify:track:0tdZjhsUaCffb54PzIDgwc']"
      ]
     },
     "execution_count": 251,
     "metadata": {},
     "output_type": "execute_result"
    }
   ],
   "source": [
    "songs_for_playlist"
   ]
  },
  {
   "cell_type": "code",
   "execution_count": 255,
   "id": "0582879a",
   "metadata": {},
   "outputs": [
    {
     "name": "stdout",
     "output_type": "stream",
     "text": [
      "{'snapshot_id': 'MyxiODg5ZTBjYmZhNTU4YzljZDI1OTdiMGU0OTFkMzRmNDc1MDFhNzlj'}\n"
     ]
    }
   ],
   "source": [
    "# if you make a private playlist you need a different SCOPE \n",
    "# scope = 'user-read-private user-read-playback-state user-modify-playback-state playlist-modify-public user-library-read'\n",
    "# change this ^\n",
    "# to this:\n",
    "# scope = 'user-read-private user-read-playback-state user-modify-playback-state playlist-modify-private user-library-read'\n",
    "my_playlist = sp.user_playlist_create(user=username, name=\"Stranger Things\", public=True,\n",
    "                                      # making the playlist description the quote so that the homies can compare the playlist to the quote\n",
    "                                      description=stranger_things_data[0]['quote'])\n",
    "results = sp.user_playlist_add_tracks(username, my_playlist['id'], songs_for_playlist)\n",
    "print(results)"
   ]
  },
  {
   "cell_type": "code",
   "execution_count": 256,
   "id": "bb3bb26f",
   "metadata": {},
   "outputs": [
    {
     "data": {
      "text/plain": [
       "True"
      ]
     },
     "execution_count": 256,
     "metadata": {},
     "output_type": "execute_result"
    }
   ],
   "source": [
    "webbrowser.open(my_playlist['external_urls']['spotify'])"
   ]
  },
  {
   "cell_type": "code",
   "execution_count": null,
   "id": "e3b9a828",
   "metadata": {},
   "outputs": [],
   "source": []
  }
 ],
 "metadata": {
  "kernelspec": {
   "display_name": "Python 3 (ipykernel)",
   "language": "python",
   "name": "python3"
  },
  "language_info": {
   "codemirror_mode": {
    "name": "ipython",
    "version": 3
   },
   "file_extension": ".py",
   "mimetype": "text/x-python",
   "name": "python",
   "nbconvert_exporter": "python",
   "pygments_lexer": "ipython3",
   "version": "3.11.0"
  }
 },
 "nbformat": 4,
 "nbformat_minor": 5
}
