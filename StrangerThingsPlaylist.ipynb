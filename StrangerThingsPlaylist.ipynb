{
 "cells": [
  {
   "cell_type": "code",
   "execution_count": 291,
   "id": "741f59ad",
   "metadata": {},
   "outputs": [],
   "source": [
    "# import libraries\n",
    "import spotipy\n",
    "import webbrowser\n",
    "import json\n",
    "import urllib.request\n",
    "#import geocoder\n",
    "from nltk.corpus import stopwords\n",
    "import spotipy.util as util\n",
    "#import random\n",
    "import requests"
   ]
  },
  {
   "cell_type": "code",
   "execution_count": 292,
   "id": "7261657b",
   "metadata": {},
   "outputs": [],
   "source": [
    "# open .json file with spotify and nasa keys and turn it into a variable called keys\n",
    "keys = \"spotify_keys.json\"\n",
    "with open(keys, \"r\") as keys:\n",
    "    api_tokens = json.load(keys)"
   ]
  },
  {
   "cell_type": "code",
   "execution_count": 293,
   "id": "fa1f008d",
   "metadata": {},
   "outputs": [],
   "source": [
    "# create variables for the different api keys within the spotify_keys.json file\n",
    "client_id = api_tokens[\"client_id\"]\n",
    "client_secret = api_tokens[\"client_secret\"]\n",
    "redirectURI = api_tokens[\"redirect\"]\n",
    "username = api_tokens[\"username\"]"
   ]
  },
  {
   "cell_type": "code",
   "execution_count": 294,
   "id": "17f24bf8",
   "metadata": {},
   "outputs": [],
   "source": [
    "# request is when I'm asking for data. \n",
    "request = urllib.request.Request(\"https://strangerthings-quotes.vercel.app/api/quotes\")\n",
    "# response is the answer i get for asking for data\n",
    "response = urllib.request.urlopen(request)"
   ]
  },
  {
   "cell_type": "code",
   "execution_count": 295,
   "id": "19dc7722",
   "metadata": {},
   "outputs": [],
   "source": [
    "# converting the HTTPResponse object to a python dictionairy\n",
    "stranger_things_data = json.loads(response.read())"
   ]
  },
  {
   "cell_type": "code",
   "execution_count": 296,
   "id": "3684b3ab",
   "metadata": {},
   "outputs": [
    {
     "data": {
      "text/plain": [
       "[{'quote': 'I felt this evil like it was looking at me.',\n",
       "  'author': 'Will Byers'}]"
      ]
     },
     "execution_count": 296,
     "metadata": {},
     "output_type": "execute_result"
    }
   ],
   "source": [
    "# print out the stranger things data\n",
    "stranger_things_data"
   ]
  },
  {
   "cell_type": "code",
   "execution_count": 297,
   "id": "385da61e",
   "metadata": {},
   "outputs": [
    {
     "data": {
      "text/plain": [
       "{'quote': 'I felt this evil like it was looking at me.',\n",
       " 'author': 'Will Byers'}"
      ]
     },
     "execution_count": 297,
     "metadata": {},
     "output_type": "execute_result"
    }
   ],
   "source": [
    "# print out the first dictionary within the list of data\n",
    "stranger_things_data[0]"
   ]
  },
  {
   "cell_type": "code",
   "execution_count": 298,
   "id": "4a0687e9",
   "metadata": {},
   "outputs": [
    {
     "name": "stdout",
     "output_type": "stream",
     "text": [
      "['I', 'felt', 'this', 'evil', 'like', 'it', 'was', 'looking', 'at', 'me.']\n"
     ]
    }
   ],
   "source": [
    "# open the first list, print the value of the key 'quote' and split it by spaces rather than each letter\n",
    "print(stranger_things_data[0]['quote'].split(\" \"))"
   ]
  },
  {
   "cell_type": "code",
   "execution_count": 299,
   "id": "0c4ff238",
   "metadata": {},
   "outputs": [],
   "source": [
    "# create a variable that contains the list of words from the quote\n",
    "list_of_words = stranger_things_data[0]['quote'].split(\" \")"
   ]
  },
  {
   "cell_type": "code",
   "execution_count": 300,
   "id": "0d84ef14",
   "metadata": {},
   "outputs": [
    {
     "data": {
      "text/plain": [
       "['I', 'felt', 'this', 'evil', 'like', 'it', 'was', 'looking', 'at', 'me.']"
      ]
     },
     "execution_count": 300,
     "metadata": {},
     "output_type": "execute_result"
    }
   ],
   "source": [
    "list_of_words"
   ]
  },
  {
   "cell_type": "code",
   "execution_count": 301,
   "id": "b08f1c9a",
   "metadata": {},
   "outputs": [],
   "source": [
    "scope = 'user-read-private user-read-playback-state user-modify-playback-state playlist-modify-public user-library-read'\n",
    "token = util.prompt_for_user_token(username, scope, client_id=client_id,\n",
    "                           client_secret=client_secret,\n",
    "                           redirect_uri=redirectURI)"
   ]
  },
  {
   "cell_type": "code",
   "execution_count": 302,
   "id": "f4e1d97d",
   "metadata": {},
   "outputs": [
    {
     "data": {
      "text/plain": [
       "'BQCPacIbKuU2arAoHohyzYM3wdM9RLwUvwxI7dLAqPCdF95Qc__n8-7nlbOSCeG8olgNhvNzAGZoepUU-ru3IEDvjePmIOzBmYyKqDQiIdd1iw2a86RxkBER1Y1yvGxkNThK1doe2tDhHwtOkHDY_liPytCoLuSgG2gskLFGVDKZNjq2x3TyJT9eUs404BfXxhyyMRB0EDK26cqBHRzasYbKDcB-aQSPh0d5IBx1O-9iEhhzvKX-1ZHshJS6mmcL_y_Ft4Xc_hXraQ'"
      ]
     },
     "execution_count": 302,
     "metadata": {},
     "output_type": "execute_result"
    }
   ],
   "source": [
    "# print out token\n",
    "token"
   ]
  },
  {
   "cell_type": "code",
   "execution_count": 303,
   "id": "396144c5",
   "metadata": {},
   "outputs": [],
   "source": [
    "# create my spotify object\n",
    "sp = spotipy.Spotify(auth=token)"
   ]
  },
  {
   "cell_type": "code",
   "execution_count": 304,
   "id": "d84be1fd",
   "metadata": {},
   "outputs": [],
   "source": [
    "songs_for_playlist = []\n",
    "\n",
    "# for every word in my list of words\n",
    "for word in list_of_words:\n",
    "    # search for songs that contain each word of the quote and make a playlist for it\n",
    "    searchResults = sp.search(q=\"track:\" + word, type=\"track\")\n",
    "    # if the search returns anything\n",
    "    if len(searchResults['tracks']['items']) > 0:\n",
    "        first_song = searchResults['tracks']['items'][0]\n",
    "        songs_for_playlist.append(first_song['uri'])"
   ]
  },
  {
   "cell_type": "code",
   "execution_count": 305,
   "id": "608ef171",
   "metadata": {},
   "outputs": [
    {
     "data": {
      "text/plain": [
       "['spotify:track:5RobAV5ROH5KARimi7n3cO',\n",
       " 'spotify:track:3m04gMIUG6HgYHn65fy5Xt',\n",
       " 'spotify:track:43qgiVrRWrxv0jhYRsJtm3',\n",
       " 'spotify:track:4absiGHMelB8eH976ytjBj',\n",
       " 'spotify:track:5AyL2kgLtTWEu3qO3B9SqK',\n",
       " 'spotify:track:1xzi1Jcr7mEi9K2RfzLOqS',\n",
       " 'spotify:track:4LRPiXqCikLlN15c3yImP7',\n",
       " 'spotify:track:17bGtGqqaXOgVnhnfx5NlE',\n",
       " 'spotify:track:5unjCay0kUjuej5ebn4nS4',\n",
       " 'spotify:track:5RobAV5ROH5KARimi7n3cO']"
      ]
     },
     "execution_count": 305,
     "metadata": {},
     "output_type": "execute_result"
    }
   ],
   "source": [
    "songs_for_playlist"
   ]
  },
  {
   "cell_type": "code",
   "execution_count": 306,
   "id": "b453fcad",
   "metadata": {},
   "outputs": [
    {
     "name": "stdout",
     "output_type": "stream",
     "text": [
      "{'snapshot_id': 'MyxhOGU4MWY1MWM4MWY1Mzg3MDc3Zjg1MTY2ZGY4NjNmMWZjNzdlMmNl'}\n"
     ]
    }
   ],
   "source": [
    "# if you make a private playlist you need a different SCOPE \n",
    "# scope = 'user-read-private user-read-playback-state user-modify-playback-state playlist-modify-public user-library-read'\n",
    "# change this ^\n",
    "# to this:\n",
    "# scope = 'user-read-private user-read-playback-state user-modify-playback-state playlist-modify-private user-library-read'\n",
    "my_playlist = sp.user_playlist_create(user=username, name=stranger_things_data[0]['quote'], public=True,\n",
    "                                      # making the playlist description the quote so that the homies can compare the playlist to the quote\n",
    "                                      description=\"A playlist where the track names make up a random quote from a Stranger Things API :)\")\n",
    "results = sp.user_playlist_add_tracks(username, my_playlist['id'], songs_for_playlist)\n",
    "print(results)"
   ]
  },
  {
   "cell_type": "code",
   "execution_count": 307,
   "id": "469ded05",
   "metadata": {},
   "outputs": [
    {
     "data": {
      "text/plain": [
       "True"
      ]
     },
     "execution_count": 307,
     "metadata": {},
     "output_type": "execute_result"
    }
   ],
   "source": [
    "webbrowser.open(my_playlist['external_urls']['spotify'])"
   ]
  },
  {
   "cell_type": "code",
   "execution_count": null,
   "id": "18008d34",
   "metadata": {},
   "outputs": [],
   "source": []
  }
 ],
 "metadata": {
  "kernelspec": {
   "display_name": "Python 3 (ipykernel)",
   "language": "python",
   "name": "python3"
  },
  "language_info": {
   "codemirror_mode": {
    "name": "ipython",
    "version": 3
   },
   "file_extension": ".py",
   "mimetype": "text/x-python",
   "name": "python",
   "nbconvert_exporter": "python",
   "pygments_lexer": "ipython3",
   "version": "3.11.0"
  }
 },
 "nbformat": 4,
 "nbformat_minor": 5
}
