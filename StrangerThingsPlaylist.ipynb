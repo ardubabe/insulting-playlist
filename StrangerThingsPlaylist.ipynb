{
 "cells": [
  {
   "cell_type": "code",
   "execution_count": 257,
   "id": "79efb166",
   "metadata": {},
   "outputs": [],
   "source": [
    "# import libraries\n",
    "import spotipy\n",
    "import webbrowser\n",
    "import json\n",
    "import urllib.request\n",
    "#import geocoder\n",
    "from nltk.corpus import stopwords\n",
    "import spotipy.util as util\n",
    "#import random\n",
    "import requests"
   ]
  },
  {
   "cell_type": "code",
   "execution_count": 258,
   "id": "55faba07",
   "metadata": {},
   "outputs": [],
   "source": [
    "# open .json file with spotify and nasa keys and turn it into a variable called keys\n",
    "keys = \"spotify_keys.json\"\n",
    "with open(keys, \"r\") as keys:\n",
    "    api_tokens = json.load(keys)"
   ]
  },
  {
   "cell_type": "code",
   "execution_count": 259,
   "id": "ff7fba65",
   "metadata": {},
   "outputs": [],
   "source": [
    "# create variables for the different api keys within the spotify_keys.json file\n",
    "client_id = api_tokens[\"client_id\"]\n",
    "client_secret = api_tokens[\"client_secret\"]\n",
    "redirectURI = api_tokens[\"redirect\"]\n",
    "username = api_tokens[\"username\"]"
   ]
  },
  {
   "cell_type": "code",
   "execution_count": 260,
   "id": "c215ac01",
   "metadata": {},
   "outputs": [],
   "source": [
    "# request is when I'm asking for data. \n",
    "request = urllib.request.Request(\"https://strangerthings-quotes.vercel.app/api/quotes\")\n",
    "# response is the answer i get for asking for data\n",
    "response = urllib.request.urlopen(request)"
   ]
  },
  {
   "cell_type": "code",
   "execution_count": 261,
   "id": "11c3da49",
   "metadata": {},
   "outputs": [],
   "source": [
    "# converting the HTTPResponse object to a python dictionairy\n",
    "stranger_things_data = json.loads(response.read())"
   ]
  },
  {
   "cell_type": "code",
   "execution_count": 262,
   "id": "976fdccf",
   "metadata": {},
   "outputs": [
    {
     "data": {
      "text/plain": [
       "[{'quote': 'She is our friend and she is crazy.',\n",
       "  'author': 'Dustin Henderson'}]"
      ]
     },
     "execution_count": 262,
     "metadata": {},
     "output_type": "execute_result"
    }
   ],
   "source": [
    "# print out the stranger things data\n",
    "stranger_things_data"
   ]
  },
  {
   "cell_type": "code",
   "execution_count": 263,
   "id": "332d7b07",
   "metadata": {},
   "outputs": [
    {
     "data": {
      "text/plain": [
       "{'quote': 'She is our friend and she is crazy.', 'author': 'Dustin Henderson'}"
      ]
     },
     "execution_count": 263,
     "metadata": {},
     "output_type": "execute_result"
    }
   ],
   "source": [
    "# print out the first dictionary within the list of data\n",
    "stranger_things_data[0]"
   ]
  },
  {
   "cell_type": "code",
   "execution_count": 264,
   "id": "a5fcb11c",
   "metadata": {},
   "outputs": [
    {
     "name": "stdout",
     "output_type": "stream",
     "text": [
      "['She', 'is', 'our', 'friend', 'and', 'she', 'is', 'crazy.']\n"
     ]
    }
   ],
   "source": [
    "# open the first list, print the value of the key 'quote' and split it by spaces rather than each letter\n",
    "print(stranger_things_data[0]['quote'].split(\" \"))"
   ]
  },
  {
   "cell_type": "code",
   "execution_count": 265,
   "id": "1d02c1a8",
   "metadata": {},
   "outputs": [],
   "source": [
    "# create a variable that contains the list of words from the quote\n",
    "list_of_words = stranger_things_data[0]['quote'].split(\" \")"
   ]
  },
  {
   "cell_type": "code",
   "execution_count": 266,
   "id": "ffa51023",
   "metadata": {},
   "outputs": [
    {
     "data": {
      "text/plain": [
       "['She', 'is', 'our', 'friend', 'and', 'she', 'is', 'crazy.']"
      ]
     },
     "execution_count": 266,
     "metadata": {},
     "output_type": "execute_result"
    }
   ],
   "source": [
    "list_of_words"
   ]
  },
  {
   "cell_type": "code",
   "execution_count": 267,
   "id": "e43dda46",
   "metadata": {},
   "outputs": [],
   "source": [
    "scope = 'user-read-private user-read-playback-state user-modify-playback-state playlist-modify-public user-library-read'\n",
    "token = util.prompt_for_user_token(username, scope, client_id=client_id,\n",
    "                           client_secret=client_secret,\n",
    "                           redirect_uri=redirectURI)"
   ]
  },
  {
   "cell_type": "code",
   "execution_count": 268,
   "id": "93e989ad",
   "metadata": {},
   "outputs": [
    {
     "data": {
      "text/plain": [
       "'BQCsLUSRhPImW_HFmCYxv7KW48oVrW03pgJ9JoHBWvV1zf66U4hScAbkB0W0QndZcztM-Z_warWQTtfpnELuTBEuG5i1-172S_iUbnXsYoVdTSJETh41RV7PaP3JlcYCw39leIewGc7s7-UA7Fwq_xLj4HsBqfAncAck19cuHRgGjJTt7ITS7LthIe11Y3Cx6aIkWLZobLxdzbL66I69AcBSU1w6-2tTbUM0RASGhKVYOUpjFE1-0YjKsAoHLFCuqEvNBt9Kp7JxvQ'"
      ]
     },
     "execution_count": 268,
     "metadata": {},
     "output_type": "execute_result"
    }
   ],
   "source": [
    "# print out token\n",
    "token"
   ]
  },
  {
   "cell_type": "code",
   "execution_count": 269,
   "id": "413168b7",
   "metadata": {},
   "outputs": [],
   "source": [
    "# create my spotify object\n",
    "sp = spotipy.Spotify(auth=token)"
   ]
  },
  {
   "cell_type": "code",
   "execution_count": 270,
   "id": "6797f960",
   "metadata": {},
   "outputs": [],
   "source": [
    "songs_for_playlist = []\n",
    "\n",
    "# for every word in my list of words\n",
    "for word in list_of_words:\n",
    "    # search for songs that contain each word of the quote and make a playlist for it\n",
    "    searchResults = sp.search(q=\"track:\" + word, type=\"track\")\n",
    "    # if the search returns anything\n",
    "    if len(searchResults['tracks']['items']) > 0:\n",
    "        first_song = searchResults['tracks']['items'][0]\n",
    "        songs_for_playlist.append(first_song['uri'])"
   ]
  },
  {
   "cell_type": "code",
   "execution_count": 271,
   "id": "a47ab6cf",
   "metadata": {},
   "outputs": [
    {
     "data": {
      "text/plain": [
       "['spotify:track:0IuVhCflrQPMGRrOyoY5RW',\n",
       " 'spotify:track:0bYg9bo50gSsH3LtXe2SQn',\n",
       " 'spotify:track:07MDkzWARZaLEdKxo6yArG',\n",
       " 'spotify:track:4SSnFejRGlZikf02HLewEF',\n",
       " 'spotify:track:2fmtrXfvbN8xkHwE0zgTTc',\n",
       " 'spotify:track:0IuVhCflrQPMGRrOyoY5RW',\n",
       " 'spotify:track:0bYg9bo50gSsH3LtXe2SQn',\n",
       " 'spotify:track:1vxw6aYJls2oq3gW0DujAo']"
      ]
     },
     "execution_count": 271,
     "metadata": {},
     "output_type": "execute_result"
    }
   ],
   "source": [
    "songs_for_playlist"
   ]
  },
  {
   "cell_type": "code",
   "execution_count": 272,
   "id": "880c9f7c",
   "metadata": {},
   "outputs": [
    {
     "name": "stdout",
     "output_type": "stream",
     "text": [
      "{'snapshot_id': 'Myw3NDVlODhmYTU0MDU4Y2QyZWM3OGNhYWNlNWRkZGMxZTg1ZDBhY2Rh'}\n"
     ]
    }
   ],
   "source": [
    "# if you make a private playlist you need a different SCOPE \n",
    "# scope = 'user-read-private user-read-playback-state user-modify-playback-state playlist-modify-public user-library-read'\n",
    "# change this ^\n",
    "# to this:\n",
    "# scope = 'user-read-private user-read-playback-state user-modify-playback-state playlist-modify-private user-library-read'\n",
    "my_playlist = sp.user_playlist_create(user=username, name=\"Stranger Things\", public=True,\n",
    "                                      # making the playlist description the quote so that the homies can compare the playlist to the quote\n",
    "                                      description=stranger_things_data[0]['quote'])\n",
    "results = sp.user_playlist_add_tracks(username, my_playlist['id'], songs_for_playlist)\n",
    "print(results)"
   ]
  },
  {
   "cell_type": "code",
   "execution_count": 273,
   "id": "d44ce503",
   "metadata": {},
   "outputs": [
    {
     "data": {
      "text/plain": [
       "True"
      ]
     },
     "execution_count": 273,
     "metadata": {},
     "output_type": "execute_result"
    }
   ],
   "source": [
    "webbrowser.open(my_playlist['external_urls']['spotify'])"
   ]
  },
  {
   "cell_type": "code",
   "execution_count": null,
   "id": "79a313b2",
   "metadata": {},
   "outputs": [],
   "source": []
  }
 ],
 "metadata": {
  "kernelspec": {
   "display_name": "Python 3 (ipykernel)",
   "language": "python",
   "name": "python3"
  },
  "language_info": {
   "codemirror_mode": {
    "name": "ipython",
    "version": 3
   },
   "file_extension": ".py",
   "mimetype": "text/x-python",
   "name": "python",
   "nbconvert_exporter": "python",
   "pygments_lexer": "ipython3",
   "version": "3.11.0"
  }
 },
 "nbformat": 4,
 "nbformat_minor": 5
}
